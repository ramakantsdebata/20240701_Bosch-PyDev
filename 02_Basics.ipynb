{
 "cells": [
  {
   "cell_type": "markdown",
   "metadata": {},
   "source": [
    "# Learning Python"
   ]
  },
  {
   "cell_type": "markdown",
   "metadata": {},
   "source": [
    "## Basics"
   ]
  },
  {
   "cell_type": "code",
   "execution_count": null,
   "metadata": {},
   "outputs": [],
   "source": [
    "##  Create a file with the extension *.ipynb ---> Jupiter Notebook"
   ]
  },
  {
   "cell_type": "code",
   "execution_count": null,
   "metadata": {},
   "outputs": [],
   "source": [
    "a = 10\n",
    "b = 20\n",
    "c = a + b\n",
    "c"
   ]
  },
  {
   "cell_type": "markdown",
   "metadata": {},
   "source": [
    "### Python 2.x vs 3.x\n",
    "* Print function\n",
    "    * P 2.x : print \"Hello\"     # print is a statement\n",
    "    * P 3.x : print(\"Hello\")    # print is a function\n",
    "* Integral division\n",
    "    * P 2.x: 5/2 == 2       # '/' is the integral division if denominator is an integer \n",
    "    * P 3.x: 5/2 == 2.5     # '/' is not an integral division\n",
    "        * 5//2 == 2         # Integral division\n",
    "* String\n",
    "    * P 2.x: ASCII   For unicode string, we said u\"Hello\"\n",
    "    * P 3.x: Unicode For binary strings, we say b\"Hello\"\n",
    "* range() vs. xrange\n",
    "    * P 2.x: range returns a list.          xrange returns an iterator\n",
    "    * P 3.x: range returns an iterator.     xrange is removed. \n",
    "* Exception handling\n",
    "    * P 2.x \n",
    "        try:\n",
    "            print(\"Hello\")\n",
    "        except Exception, e:\n",
    "            print(e)\n",
    "    * P 3.x: \n",
    "        try:\n",
    "            print(\"Hello\")\n",
    "        except Exception as e:\n",
    "            print(e)\n",
    "* reduce()\n",
    "    * P 2.x: this was a builtin i.e. it was directly usable without having to import anything\n",
    "    * P 3.x: this is now part of the functools module. Requires to imported explicitly.\n",
    "* input()\n",
    "    * P 2.x: input() performed an evaluation on whatever was passed to it.      raw_input() return str type\n",
    "    * P 3.x: input() returns a str type; Doesn't perform evaluations.           raw_input() removed\n",
    "* Libraries\n",
    "    * Few libraries have changed or been replaced\n",
    "* Migration\n",
    "    * P 2.x: End of lifetine; No new development or support\n",
    "    * P 3.x: Ongoing development and enhancement"
   ]
  },
  {
   "cell_type": "code",
   "execution_count": null,
   "metadata": {},
   "outputs": [],
   "source": [
    "help()"
   ]
  },
  {
   "cell_type": "code",
   "execution_count": null,
   "metadata": {},
   "outputs": [],
   "source": [
    "help(int)"
   ]
  },
  {
   "cell_type": "code",
   "execution_count": 6,
   "metadata": {},
   "outputs": [
    {
     "data": {
      "text/plain": [
       "5"
      ]
     },
     "execution_count": 6,
     "metadata": {},
     "output_type": "execute_result"
    }
   ],
   "source": [
    "x = 5\n",
    "x"
   ]
  },
  {
   "cell_type": "code",
   "execution_count": 7,
   "metadata": {},
   "outputs": [],
   "source": [
    "y = 7"
   ]
  },
  {
   "cell_type": "code",
   "execution_count": 8,
   "metadata": {},
   "outputs": [
    {
     "data": {
      "text/plain": [
       "12"
      ]
     },
     "execution_count": 8,
     "metadata": {},
     "output_type": "execute_result"
    }
   ],
   "source": [
    "x + y"
   ]
  },
  {
   "cell_type": "code",
   "execution_count": 9,
   "metadata": {},
   "outputs": [
    {
     "data": {
      "text/plain": [
       "12"
      ]
     },
     "execution_count": 9,
     "metadata": {},
     "output_type": "execute_result"
    }
   ],
   "source": [
    "_"
   ]
  },
  {
   "cell_type": "code",
   "execution_count": 10,
   "metadata": {},
   "outputs": [
    {
     "data": {
      "text/plain": [
       "20"
      ]
     },
     "execution_count": 10,
     "metadata": {},
     "output_type": "execute_result"
    }
   ],
   "source": [
    "_ + 8"
   ]
  },
  {
   "cell_type": "code",
   "execution_count": null,
   "metadata": {},
   "outputs": [],
   "source": [
    "def add(a, b):\n",
    "    print(a, b)\n",
    "    return a + b\n",
    "\n",
    "# As Guido 'indented' it\n",
    "\n",
    "\n",
    "'''void add(int x, int y){return x + y;}\n",
    "\n",
    "for(int x = 0; x < 10; x++) {//Some operation\n",
    "//Some more\n",
    "}\n",
    "'''"
   ]
  },
  {
   "cell_type": "code",
   "execution_count": 11,
   "metadata": {},
   "outputs": [
    {
     "name": "stdout",
     "output_type": "stream",
     "text": [
      "The Zen of Python, by Tim Peters\n",
      "\n",
      "Beautiful is better than ugly.\n",
      "Explicit is better than implicit.\n",
      "Simple is better than complex.\n",
      "Complex is better than complicated.\n",
      "Flat is better than nested.\n",
      "Sparse is better than dense.\n",
      "Readability counts.\n",
      "Special cases aren't special enough to break the rules.\n",
      "Although practicality beats purity.\n",
      "Errors should never pass silently.\n",
      "Unless explicitly silenced.\n",
      "In the face of ambiguity, refuse the temptation to guess.\n",
      "There should be one-- and preferably only one --obvious way to do it.\n",
      "Although that way may not be obvious at first unless you're Dutch.\n",
      "Now is better than never.\n",
      "Although never is often better than *right* now.\n",
      "If the implementation is hard to explain, it's a bad idea.\n",
      "If the implementation is easy to explain, it may be a good idea.\n",
      "Namespaces are one honking great idea -- let's do more of those!\n"
     ]
    }
   ],
   "source": [
    "import this"
   ]
  },
  {
   "cell_type": "markdown",
   "metadata": {},
   "source": [
    "## Scalar Types and Values\n",
    "* bool\n",
    "* None\n",
    "* Int\n",
    "* Float\n"
   ]
  },
  {
   "cell_type": "code",
   "execution_count": null,
   "metadata": {},
   "outputs": [],
   "source": [
    "# boolean\n",
    "a = True\n",
    "b = False"
   ]
  },
  {
   "cell_type": "code",
   "execution_count": null,
   "metadata": {},
   "outputs": [],
   "source": [
    "help(bool)"
   ]
  },
  {
   "cell_type": "code",
   "execution_count": 13,
   "metadata": {},
   "outputs": [
    {
     "data": {
      "text/plain": [
       "(False, False, False, False)"
      ]
     },
     "execution_count": 13,
     "metadata": {},
     "output_type": "execute_result"
    }
   ],
   "source": [
    "bool(0), bool(0.0), bool(\"\"), bool([])"
   ]
  },
  {
   "cell_type": "code",
   "execution_count": 14,
   "metadata": {},
   "outputs": [
    {
     "data": {
      "text/plain": [
       "(True, True, True, True)"
      ]
     },
     "execution_count": 14,
     "metadata": {},
     "output_type": "execute_result"
    }
   ],
   "source": [
    "bool(12), bool(1.5), bool(\"True\"), bool([0, 0])"
   ]
  },
  {
   "cell_type": "code",
   "execution_count": 15,
   "metadata": {},
   "outputs": [
    {
     "data": {
      "text/plain": [
       "(True, False)"
      ]
     },
     "execution_count": 15,
     "metadata": {},
     "output_type": "execute_result"
    }
   ],
   "source": [
    "bool(\"False\"), bool(False)"
   ]
  },
  {
   "cell_type": "code",
   "execution_count": 18,
   "metadata": {},
   "outputs": [
    {
     "name": "stdout",
     "output_type": "stream",
     "text": [
      "Help on NoneType object:\n",
      "\n",
      "class NoneType(object)\n",
      " |  Methods defined here:\n",
      " |\n",
      " |  __bool__(self, /)\n",
      " |      True if self else False\n",
      " |\n",
      " |  __eq__(self, value, /)\n",
      " |      Return self==value.\n",
      " |\n",
      " |  __ge__(self, value, /)\n",
      " |      Return self>=value.\n",
      " |\n",
      " |  __gt__(self, value, /)\n",
      " |      Return self>value.\n",
      " |\n",
      " |  __hash__(self, /)\n",
      " |      Return hash(self).\n",
      " |\n",
      " |  __le__(self, value, /)\n",
      " |      Return self<=value.\n",
      " |\n",
      " |  __lt__(self, value, /)\n",
      " |      Return self<value.\n",
      " |\n",
      " |  __ne__(self, value, /)\n",
      " |      Return self!=value.\n",
      " |\n",
      " |  __repr__(self, /)\n",
      " |      Return repr(self).\n",
      " |\n",
      " |  ----------------------------------------------------------------------\n",
      " |  Static methods defined here:\n",
      " |\n",
      " |  __new__(*args, **kwargs)\n",
      " |      Create and return a new object.  See help(type) for accurate signature.\n",
      "\n",
      "None\n",
      "True\n"
     ]
    }
   ],
   "source": [
    "#NONE; represents absence of any value; Non-printable\n",
    "help(None)\n",
    "a = None\n",
    "print(a) # --> print(str(a))\n",
    "print(a is None)"
   ]
  },
  {
   "cell_type": "code",
   "execution_count": 20,
   "metadata": {},
   "outputs": [
    {
     "data": {
      "text/plain": [
       "(2.5, 2)"
      ]
     },
     "execution_count": 20,
     "metadata": {},
     "output_type": "execute_result"
    }
   ],
   "source": [
    "## Integers\n",
    "5/2, 5//2"
   ]
  },
  {
   "cell_type": "code",
   "execution_count": 22,
   "metadata": {},
   "outputs": [
    {
     "data": {
      "text/plain": [
       "(1001, 1000)"
      ]
     },
     "execution_count": 22,
     "metadata": {},
     "output_type": "execute_result"
    }
   ],
   "source": [
    "int('1000') + 1, int(1000)"
   ]
  },
  {
   "cell_type": "code",
   "execution_count": 25,
   "metadata": {},
   "outputs": [
    {
     "data": {
      "text/plain": [
       "(10, '0b1010', '0o12', '0xa')"
      ]
     },
     "execution_count": 25,
     "metadata": {},
     "output_type": "execute_result"
    }
   ],
   "source": [
    "int(0XA), bin(10), oct(10), hex(10)"
   ]
  },
  {
   "cell_type": "code",
   "execution_count": 28,
   "metadata": {},
   "outputs": [
    {
     "data": {
      "text/plain": [
       "(10, 2401)"
      ]
     },
     "execution_count": 28,
     "metadata": {},
     "output_type": "execute_result"
    }
   ],
   "source": [
    "int(0o12), int('10000', 7)"
   ]
  },
  {
   "cell_type": "code",
   "execution_count": 30,
   "metadata": {},
   "outputs": [
    {
     "data": {
      "text/plain": [
       "354.7"
      ]
     },
     "execution_count": 30,
     "metadata": {},
     "output_type": "execute_result"
    }
   ],
   "source": [
    "# Floating point data\n",
    "# 53-bit binary precision\n",
    "# 15 to 16 bits of decimal precision\n",
    "x = 3.547e2\n",
    "x"
   ]
  },
  {
   "cell_type": "code",
   "execution_count": 31,
   "metadata": {},
   "outputs": [
    {
     "data": {
      "text/plain": [
       "sys.float_info(max=1.7976931348623157e+308, max_exp=1024, max_10_exp=308, min=2.2250738585072014e-308, min_exp=-1021, min_10_exp=-307, dig=15, mant_dig=53, epsilon=2.220446049250313e-16, radix=2, rounds=1)"
      ]
     },
     "execution_count": 31,
     "metadata": {},
     "output_type": "execute_result"
    }
   ],
   "source": [
    "import sys\n",
    "sys.float_info"
   ]
  },
  {
   "cell_type": "code",
   "execution_count": 32,
   "metadata": {},
   "outputs": [
    {
     "data": {
      "text/plain": [
       "(7.5, 7.5)"
      ]
     },
     "execution_count": 32,
     "metadata": {},
     "output_type": "execute_result"
    }
   ],
   "source": [
    "float(7.5), float('7.5')"
   ]
  },
  {
   "cell_type": "code",
   "execution_count": 33,
   "metadata": {},
   "outputs": [
    {
     "data": {
      "text/plain": [
       "(nan, inf, -inf)"
      ]
     },
     "execution_count": 33,
     "metadata": {},
     "output_type": "execute_result"
    }
   ],
   "source": [
    "float('nan'), float('inf'), float('-inf')"
   ]
  },
  {
   "cell_type": "code",
   "execution_count": 38,
   "metadata": {},
   "outputs": [
    {
     "name": "stdout",
     "output_type": "stream",
     "text": [
      "9007199254740992.0\n",
      "9007199254740992.0\n",
      "9007199254740994.0\n",
      "9007199254740996.0\n",
      "9007199254740996.0\n",
      "9007199254740996.0\n",
      "9007199254740998.0\n"
     ]
    }
   ],
   "source": [
    "print(float(2**53))\n",
    "print(float(2**53 + 1))\n",
    "print(float(2**53 + 2))\n",
    "print(float(2**53 + 3))\n",
    "print(float(2**53 + 4))\n",
    "print(float(2**53 + 5))\n",
    "print(float(2**53 + 6))\n"
   ]
  },
  {
   "cell_type": "code",
   "execution_count": 41,
   "metadata": {},
   "outputs": [
    {
     "name": "stdout",
     "output_type": "stream",
     "text": [
      "False\n",
      "0.09999999999999998\n"
     ]
    }
   ],
   "source": [
    "print(0.70 - 0.60 == 0.10)\n",
    "print(0.70 - 0.60)"
   ]
  },
  {
   "cell_type": "code",
   "execution_count": 46,
   "metadata": {},
   "outputs": [
    {
     "name": "stdout",
     "output_type": "stream",
     "text": [
      "True\n",
      "True\n",
      "False\n",
      "0.1\n"
     ]
    },
    {
     "data": {
      "text/plain": [
       "'\\nfloat x = 1.1\\n\\ntemplate<typename T>\\nT add (T a, T b)\\n{\\n    return a + b\\n}\\n\\nadd(1.1f, 1.2f)\\n'"
      ]
     },
     "execution_count": 46,
     "metadata": {},
     "output_type": "execute_result"
    }
   ],
   "source": [
    "from decimal import Decimal\n",
    "print((0.7 - 0.6) != 0.1)\n",
    "print((Decimal(0.7) - Decimal(0.6)) != Decimal(0.1))\n",
    "print((Decimal('0.7') - Decimal('0.6')) != Decimal('0.1'))\n",
    "print((Decimal('0.7') - Decimal('0.6')))\n",
    "\n",
    "'''\n",
    "float x = 1.1\n",
    "\n",
    "template<typename T>\n",
    "T add (T a, T b)\n",
    "{\n",
    "    return a + b\n",
    "}\n",
    "\n",
    "add(1.1f, 1.2f)\n",
    "'''"
   ]
  },
  {
   "cell_type": "code",
   "execution_count": 48,
   "metadata": {},
   "outputs": [
    {
     "name": "stdout",
     "output_type": "stream",
     "text": [
      "0.6999999999999999555910790149937383830547332763671875 0.7\n"
     ]
    }
   ],
   "source": [
    "print(Decimal(0.7), Decimal('0.7'))"
   ]
  },
  {
   "cell_type": "code",
   "execution_count": 49,
   "metadata": {},
   "outputs": [
    {
     "name": "stdout",
     "output_type": "stream",
     "text": [
      "Context(prec=28, rounding=ROUND_HALF_EVEN, Emin=-999999, Emax=999999, capitals=1, clamp=0, flags=[Inexact, FloatOperation, Rounded], traps=[InvalidOperation, DivisionByZero, Overflow])\n",
      "Context(prec=28, rounding=ROUND_HALF_EVEN, Emin=-999999, Emax=999999, capitals=1, clamp=0, flags=[Inexact, FloatOperation, Rounded], traps=[InvalidOperation, DivisionByZero, Overflow])\n"
     ]
    }
   ],
   "source": [
    "import decimal\n",
    "print(decimal.getcontext())\n",
    "\n",
    "from decimal import getcontext\n",
    "print(getcontext())"
   ]
  },
  {
   "cell_type": "code",
   "execution_count": 53,
   "metadata": {},
   "outputs": [
    {
     "name": "stdout",
     "output_type": "stream",
     "text": [
      "0.100000000000000\n",
      "0.100\n",
      "0.100000000000000\n"
     ]
    }
   ],
   "source": [
    "print(Decimal(0.7) - Decimal(0.6))\n",
    "decimal.getcontext().prec = 3\n",
    "print(Decimal(0.7) - Decimal(0.6))\n",
    "decimal.getcontext().prec = 15\n",
    "print(Decimal(0.7) - Decimal(0.6))"
   ]
  },
  {
   "cell_type": "code",
   "execution_count": 55,
   "metadata": {},
   "outputs": [
    {
     "name": "stdout",
     "output_type": "stream",
     "text": [
      "2/3\n",
      "1/10\n",
      "22/7\n",
      "7077085128725065/2251799813685248\n"
     ]
    }
   ],
   "source": [
    "# Fraction\n",
    "from fractions import Fraction\n",
    "\n",
    "two_third = Fraction(2, 3)\n",
    "one_tenth = Fraction('0.1')\n",
    "PI = Fraction('22/7')\n",
    "\n",
    "print(two_third, one_tenth, PI, sep='\\n')\n",
    "\n",
    "PI = Fraction(22/7)\n",
    "print(PI)"
   ]
  },
  {
   "cell_type": "code",
   "execution_count": 60,
   "metadata": {},
   "outputs": [
    {
     "name": "stdout",
     "output_type": "stream",
     "text": [
      "1j\n",
      "(4+2j) (4-2j)\n",
      "(20+0j)\n"
     ]
    }
   ],
   "source": [
    "# Complex Number\n",
    "import cmath\n",
    "\n",
    "x = -1\n",
    "print(cmath.sqrt(x))\n",
    "\n",
    "c = complex(4, 2)\n",
    "print(c, c.conjugate())\n",
    "print(c * c.conjugate())"
   ]
  },
  {
   "cell_type": "markdown",
   "metadata": {},
   "source": [
    "### Operations and Control structures\n",
    "* Mathematical operators + - * / // **\n",
    "* Bitwise -->       & | ! << >> ^\n",
    "* Relational -->    < > <= >= == != :="
   ]
  },
  {
   "cell_type": "code",
   "execution_count": null,
   "metadata": {},
   "outputs": [],
   "source": [
    "235.67\n",
    "2.3567e2\n",
    "2.3567 * 10**2"
   ]
  },
  {
   "cell_type": "code",
   "execution_count": 70,
   "metadata": {},
   "outputs": [
    {
     "name": "stdout",
     "output_type": "stream",
     "text": [
      "exact 10\n",
      "1\n",
      "Data\n",
      "Data\n",
      "Data\n",
      "Data\n",
      "Data\n",
      "Data\n",
      "--------------------\n",
      "Data\n",
      "Data\n",
      "Data\n",
      "Data\n",
      "--------------------\n",
      "Found 3\n",
      "0\n",
      "1\n",
      "2\n",
      "3\n",
      "4\n",
      "5\n",
      "6\n",
      "7\n",
      "8\n",
      "9\n",
      "Hi\n",
      "Hi\n",
      "Hi\n",
      "Hi\n",
      "Hi\n"
     ]
    }
   ],
   "source": [
    "## Control structure\n",
    "\n",
    "#if-elif-else\n",
    "x = 10\n",
    "\n",
    "if x < 10:\n",
    "    print(\"Lesser\")\n",
    "elif x > 10:\n",
    "    print(\"Greater\")\n",
    "else:\n",
    "    print(\"exact 10\")\n",
    "\n",
    "## Match-Case\n",
    "x = 1\n",
    "match x:\n",
    "    case 1:\n",
    "        print(\"1\")\n",
    "    case 2:\n",
    "        print(\"2\")\n",
    "    case 3: \n",
    "        print(\"3\")\n",
    "    case _:\n",
    "        print(\" Not 1, 2 or 3\")\n",
    "\n",
    "## Loops\n",
    "## while; no do-while construct\n",
    "x = 0\n",
    "while(True):\n",
    "    print(\"Data\")\n",
    "    x += 1\n",
    "    if x > 5:\n",
    "        break\n",
    "else:\n",
    "    print(\"Else block\")\n",
    "\n",
    "\n",
    "print(\"-\"* 20)\n",
    "x = 0\n",
    "while x < 5:\n",
    "    print(\"Data\")\n",
    "    x += 1\n",
    "    if x > 3:\n",
    "        break\n",
    "else:\n",
    "    print(\"Else block\")\n",
    "\n",
    "c = 5\n",
    "#while c:           # UnPythonic\n",
    "while c <= 0:       # Pythonic\n",
    "    print(\"work\")\n",
    "    c -= 1\n",
    "\n",
    "\n",
    "## for loop\n",
    "print(\"-\"* 20)\n",
    "lst = [1, 2, 3, 4, 5]\n",
    "num = 3\n",
    "for val in lst:\n",
    "    if val == num:\n",
    "        print(\"Found\", num)\n",
    "        break\n",
    "else:\n",
    "    print(\"Didn't find\", num)\n",
    "\n",
    "# for(i = 0; i < 10; i++)\n",
    "for val in range(10):\n",
    "    print(val)\n",
    "\n",
    "for _ in range(5):\n",
    "    print(\"Hi\")"
   ]
  }
 ],
 "metadata": {
  "kernelspec": {
   "display_name": "Python 3",
   "language": "python",
   "name": "python3"
  },
  "language_info": {
   "codemirror_mode": {
    "name": "ipython",
    "version": 3
   },
   "file_extension": ".py",
   "mimetype": "text/x-python",
   "name": "python",
   "nbconvert_exporter": "python",
   "pygments_lexer": "ipython3",
   "version": "3.12.3"
  }
 },
 "nbformat": 4,
 "nbformat_minor": 2
}
