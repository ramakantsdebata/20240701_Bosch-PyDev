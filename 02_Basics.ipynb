{
 "cells": [
  {
   "cell_type": "markdown",
   "metadata": {},
   "source": [
    "# Learning Python"
   ]
  },
  {
   "cell_type": "markdown",
   "metadata": {},
   "source": [
    "## Basics"
   ]
  },
  {
   "cell_type": "code",
   "execution_count": null,
   "metadata": {},
   "outputs": [],
   "source": [
    "##  Create a file with the extension *.ipynb ---> Jupiter Notebook"
   ]
  },
  {
   "cell_type": "code",
   "execution_count": null,
   "metadata": {},
   "outputs": [],
   "source": [
    "a = 10\n",
    "b = 20\n",
    "c = a + b\n",
    "c"
   ]
  },
  {
   "cell_type": "markdown",
   "metadata": {},
   "source": [
    "### Python 2.x vs 3.x\n",
    "* Print function\n",
    "    * P 2.x : print \"Hello\"     # print is a statement\n",
    "    * P 3.x : print(\"Hello\")    # print is a function\n",
    "* Integral division\n",
    "    * P 2.x: 5/2 == 2       # '/' is the integral division if denominator is an integer \n",
    "    * P 3.x: 5/2 == 2.5     # '/' is not an integral division\n",
    "        * 5//2 == 2         # Integral division\n",
    "* String\n",
    "    * P 2.x: ASCII   For unicode string, we said u\"Hello\"\n",
    "    * P 3.x: Unicode For binary strings, we say b\"Hello\"\n",
    "* range() vs. xrange\n",
    "    * P 2.x: range returns a list.          xrange returns an iterator\n",
    "    * P 3.x: range returns an iterator.     xrange is removed. \n",
    "* Exception handling\n",
    "    * P 2.x \n",
    "        try:\n",
    "            print(\"Hello\")\n",
    "        except Exception, e:\n",
    "            print(e)\n",
    "    * P 3.x: \n",
    "        try:\n",
    "            print(\"Hello\")\n",
    "        except Exception as e:\n",
    "            print(e)\n",
    "* reduce()\n",
    "    * P 2.x: this was a builtin i.e. it was directly usable without having to import anything\n",
    "    * P 3.x: this is now part of the functools module. Requires to imported explicitly.\n",
    "* input()\n",
    "    * P 2.x: input() performed an evaluation on whatever was passed to it.      raw_input() return str type\n",
    "    * P 3.x: input() returns a str type; Doesn't perform evaluations.           raw_input() removed\n",
    "* Libraries\n",
    "    * Few libraries have changed or been replaced\n",
    "* Migration\n",
    "    * P 2.x: End of lifetine; No new development or support\n",
    "    * P 3.x: Ongoing development and enhancement"
   ]
  },
  {
   "cell_type": "code",
   "execution_count": null,
   "metadata": {},
   "outputs": [],
   "source": [
    "help()"
   ]
  },
  {
   "cell_type": "code",
   "execution_count": null,
   "metadata": {},
   "outputs": [],
   "source": [
    "help(int)"
   ]
  },
  {
   "cell_type": "code",
   "execution_count": 6,
   "metadata": {},
   "outputs": [
    {
     "data": {
      "text/plain": [
       "5"
      ]
     },
     "execution_count": 6,
     "metadata": {},
     "output_type": "execute_result"
    }
   ],
   "source": [
    "x = 5\n",
    "x"
   ]
  },
  {
   "cell_type": "code",
   "execution_count": 7,
   "metadata": {},
   "outputs": [],
   "source": [
    "y = 7"
   ]
  },
  {
   "cell_type": "code",
   "execution_count": 8,
   "metadata": {},
   "outputs": [
    {
     "data": {
      "text/plain": [
       "12"
      ]
     },
     "execution_count": 8,
     "metadata": {},
     "output_type": "execute_result"
    }
   ],
   "source": [
    "x + y"
   ]
  },
  {
   "cell_type": "code",
   "execution_count": 9,
   "metadata": {},
   "outputs": [
    {
     "data": {
      "text/plain": [
       "12"
      ]
     },
     "execution_count": 9,
     "metadata": {},
     "output_type": "execute_result"
    }
   ],
   "source": [
    "_"
   ]
  },
  {
   "cell_type": "code",
   "execution_count": 10,
   "metadata": {},
   "outputs": [
    {
     "data": {
      "text/plain": [
       "20"
      ]
     },
     "execution_count": 10,
     "metadata": {},
     "output_type": "execute_result"
    }
   ],
   "source": [
    "_ + 8"
   ]
  },
  {
   "cell_type": "code",
   "execution_count": null,
   "metadata": {},
   "outputs": [],
   "source": [
    "def add(a, b):\n",
    "    print(a, b)\n",
    "    return a + b\n",
    "\n",
    "# As Guido 'indented' it\n",
    "\n",
    "\n",
    "'''void add(int x, int y){return x + y;}\n",
    "\n",
    "for(int x = 0; x < 10; x++) {//Some operation\n",
    "//Some more\n",
    "}\n",
    "'''"
   ]
  },
  {
   "cell_type": "code",
   "execution_count": 11,
   "metadata": {},
   "outputs": [
    {
     "name": "stdout",
     "output_type": "stream",
     "text": [
      "The Zen of Python, by Tim Peters\n",
      "\n",
      "Beautiful is better than ugly.\n",
      "Explicit is better than implicit.\n",
      "Simple is better than complex.\n",
      "Complex is better than complicated.\n",
      "Flat is better than nested.\n",
      "Sparse is better than dense.\n",
      "Readability counts.\n",
      "Special cases aren't special enough to break the rules.\n",
      "Although practicality beats purity.\n",
      "Errors should never pass silently.\n",
      "Unless explicitly silenced.\n",
      "In the face of ambiguity, refuse the temptation to guess.\n",
      "There should be one-- and preferably only one --obvious way to do it.\n",
      "Although that way may not be obvious at first unless you're Dutch.\n",
      "Now is better than never.\n",
      "Although never is often better than *right* now.\n",
      "If the implementation is hard to explain, it's a bad idea.\n",
      "If the implementation is easy to explain, it may be a good idea.\n",
      "Namespaces are one honking great idea -- let's do more of those!\n"
     ]
    }
   ],
   "source": [
    "import this"
   ]
  }
 ],
 "metadata": {
  "kernelspec": {
   "display_name": "Python 3",
   "language": "python",
   "name": "python3"
  },
  "language_info": {
   "codemirror_mode": {
    "name": "ipython",
    "version": 3
   },
   "file_extension": ".py",
   "mimetype": "text/x-python",
   "name": "python",
   "nbconvert_exporter": "python",
   "pygments_lexer": "ipython3",
   "version": "3.12.3"
  }
 },
 "nbformat": 4,
 "nbformat_minor": 2
}
